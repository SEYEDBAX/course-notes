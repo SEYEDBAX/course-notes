{
 "cells": [
  {
   "cell_type": "markdown",
   "id": "5b0872bf-45ba-4c74-a09f-743958af2a49",
   "metadata": {},
   "source": [
    "# جلسه ۱۵\n",
    "در این جلسه در مورد کتابخونه requests پایتون صحبت میکنیم"
   ]
  },
  {
   "cell_type": "markdown",
   "id": "b805bb40-b332-419d-98fc-6d09abe9e86c",
   "metadata": {},
   "source": [
    "## install"
   ]
  },
  {
   "cell_type": "code",
   "execution_count": 3,
   "id": "a724ef03-2084-4a6f-8484-5273f614722b",
   "metadata": {},
   "outputs": [
    {
     "name": "stdout",
     "output_type": "stream",
     "text": [
      "Requirement already satisfied: requests in /Users/seyed/miniconda3/lib/python3.10/site-packages (2.31.0)\n",
      "Requirement already satisfied: idna<4,>=2.5 in /Users/seyed/miniconda3/lib/python3.10/site-packages (from requests) (3.6)\n",
      "Requirement already satisfied: urllib3<3,>=1.21.1 in /Users/seyed/miniconda3/lib/python3.10/site-packages (from requests) (2.1.0)\n",
      "Requirement already satisfied: charset-normalizer<4,>=2 in /Users/seyed/miniconda3/lib/python3.10/site-packages (from requests) (3.3.2)\n",
      "Requirement already satisfied: certifi>=2017.4.17 in /Users/seyed/miniconda3/lib/python3.10/site-packages (from requests) (2023.11.17)\n"
     ]
    }
   ],
   "source": [
    "!pip install requests"
   ]
  },
  {
   "cell_type": "markdown",
   "id": "f8946bd1-757d-4b3f-aa34-7bde1873527a",
   "metadata": {},
   "source": [
    "### HTTP request methods\n",
    "HTTP defines a set of request methods to indicate the desired action to be performed for a given resource. Although they can also be nouns, these request methods are sometimes referred to as HTTP verbs. Each of them implements a different semantic, but some common features are shared by a group of them: e.g. a request method can be safe, idempotent, or cacheable.\n",
    "\n",
    "`GET`\n",
    "The GET method requests a representation of the specified resource. Requests using GET should only retrieve data.\n",
    "\n",
    "`HEAD`\n",
    "The HEAD method asks for a response identical to a GET request, but without the response body.\n",
    "\n",
    "`POST`\n",
    "The POST method submits an entity to the specified resource, often causing a change in state or side effects on the server.\n",
    "\n",
    "`PUT`\n",
    "The PUT method replaces all current representations of the target resource with the request payload.\n",
    "\n",
    "`DELETE`\n",
    "The DELETE method deletes the specified resource.\n",
    "\n",
    "`CONNECT`\n",
    "The CONNECT method establishes a tunnel to the server identified by the target resource.\n",
    "\n",
    "`OPTIONS`\n",
    "The OPTIONS method describes the communication options for the target resource.\n",
    "\n",
    "`TRACE`\n",
    "The TRACE method performs a message loop-back test along the path to the target resource.\n",
    "\n",
    "`PATCH`\n",
    "The PATCH method applies partial modifications to a resource.\n",
    "\n",
    "Specifications"
   ]
  },
  {
   "cell_type": "code",
   "execution_count": 6,
   "id": "530dd881-5f91-499c-b8ce-0e66f2836d68",
   "metadata": {},
   "outputs": [
    {
     "name": "stdout",
     "output_type": "stream",
     "text": [
      "200\n",
      "46.226.162.26\n"
     ]
    },
    {
     "ename": "JSONDecodeError",
     "evalue": "Extra data: line 1 column 7 (char 6)",
     "output_type": "error",
     "traceback": [
      "\u001b[0;31m---------------------------------------------------------------------------\u001b[0m",
      "\u001b[0;31mJSONDecodeError\u001b[0m                           Traceback (most recent call last)",
      "File \u001b[0;32m/Library/Frameworks/Python.framework/Versions/3.12/lib/python3.12/site-packages/requests/models.py:971\u001b[0m, in \u001b[0;36mResponse.json\u001b[0;34m(self, **kwargs)\u001b[0m\n\u001b[1;32m    970\u001b[0m \u001b[38;5;28;01mtry\u001b[39;00m:\n\u001b[0;32m--> 971\u001b[0m     \u001b[38;5;28;01mreturn\u001b[39;00m \u001b[43mcomplexjson\u001b[49m\u001b[38;5;241;43m.\u001b[39;49m\u001b[43mloads\u001b[49m\u001b[43m(\u001b[49m\u001b[38;5;28;43mself\u001b[39;49m\u001b[38;5;241;43m.\u001b[39;49m\u001b[43mtext\u001b[49m\u001b[43m,\u001b[49m\u001b[43m \u001b[49m\u001b[38;5;241;43m*\u001b[39;49m\u001b[38;5;241;43m*\u001b[39;49m\u001b[43mkwargs\u001b[49m\u001b[43m)\u001b[49m\n\u001b[1;32m    972\u001b[0m \u001b[38;5;28;01mexcept\u001b[39;00m JSONDecodeError \u001b[38;5;28;01mas\u001b[39;00m e:\n\u001b[1;32m    973\u001b[0m     \u001b[38;5;66;03m# Catch JSON-related errors and raise as requests.JSONDecodeError\u001b[39;00m\n\u001b[1;32m    974\u001b[0m     \u001b[38;5;66;03m# This aliases json.JSONDecodeError and simplejson.JSONDecodeError\u001b[39;00m\n",
      "File \u001b[0;32m/Library/Frameworks/Python.framework/Versions/3.12/lib/python3.12/json/__init__.py:346\u001b[0m, in \u001b[0;36mloads\u001b[0;34m(s, cls, object_hook, parse_float, parse_int, parse_constant, object_pairs_hook, **kw)\u001b[0m\n\u001b[1;32m    343\u001b[0m \u001b[38;5;28;01mif\u001b[39;00m (\u001b[38;5;28mcls\u001b[39m \u001b[38;5;129;01mis\u001b[39;00m \u001b[38;5;28;01mNone\u001b[39;00m \u001b[38;5;129;01mand\u001b[39;00m object_hook \u001b[38;5;129;01mis\u001b[39;00m \u001b[38;5;28;01mNone\u001b[39;00m \u001b[38;5;129;01mand\u001b[39;00m\n\u001b[1;32m    344\u001b[0m         parse_int \u001b[38;5;129;01mis\u001b[39;00m \u001b[38;5;28;01mNone\u001b[39;00m \u001b[38;5;129;01mand\u001b[39;00m parse_float \u001b[38;5;129;01mis\u001b[39;00m \u001b[38;5;28;01mNone\u001b[39;00m \u001b[38;5;129;01mand\u001b[39;00m\n\u001b[1;32m    345\u001b[0m         parse_constant \u001b[38;5;129;01mis\u001b[39;00m \u001b[38;5;28;01mNone\u001b[39;00m \u001b[38;5;129;01mand\u001b[39;00m object_pairs_hook \u001b[38;5;129;01mis\u001b[39;00m \u001b[38;5;28;01mNone\u001b[39;00m \u001b[38;5;129;01mand\u001b[39;00m \u001b[38;5;129;01mnot\u001b[39;00m kw):\n\u001b[0;32m--> 346\u001b[0m     \u001b[38;5;28;01mreturn\u001b[39;00m \u001b[43m_default_decoder\u001b[49m\u001b[38;5;241;43m.\u001b[39;49m\u001b[43mdecode\u001b[49m\u001b[43m(\u001b[49m\u001b[43ms\u001b[49m\u001b[43m)\u001b[49m\n\u001b[1;32m    347\u001b[0m \u001b[38;5;28;01mif\u001b[39;00m \u001b[38;5;28mcls\u001b[39m \u001b[38;5;129;01mis\u001b[39;00m \u001b[38;5;28;01mNone\u001b[39;00m:\n",
      "File \u001b[0;32m/Library/Frameworks/Python.framework/Versions/3.12/lib/python3.12/json/decoder.py:340\u001b[0m, in \u001b[0;36mJSONDecoder.decode\u001b[0;34m(self, s, _w)\u001b[0m\n\u001b[1;32m    339\u001b[0m \u001b[38;5;28;01mif\u001b[39;00m end \u001b[38;5;241m!=\u001b[39m \u001b[38;5;28mlen\u001b[39m(s):\n\u001b[0;32m--> 340\u001b[0m     \u001b[38;5;28;01mraise\u001b[39;00m JSONDecodeError(\u001b[38;5;124m\"\u001b[39m\u001b[38;5;124mExtra data\u001b[39m\u001b[38;5;124m\"\u001b[39m, s, end)\n\u001b[1;32m    341\u001b[0m \u001b[38;5;28;01mreturn\u001b[39;00m obj\n",
      "\u001b[0;31mJSONDecodeError\u001b[0m: Extra data: line 1 column 7 (char 6)",
      "\nDuring handling of the above exception, another exception occurred:\n",
      "\u001b[0;31mJSONDecodeError\u001b[0m                           Traceback (most recent call last)",
      "Cell \u001b[0;32mIn[6], line 6\u001b[0m\n\u001b[1;32m      4\u001b[0m \u001b[38;5;28mprint\u001b[39m(response\u001b[38;5;241m.\u001b[39mstatus_code)\n\u001b[1;32m      5\u001b[0m \u001b[38;5;28mprint\u001b[39m(response\u001b[38;5;241m.\u001b[39mtext)\n\u001b[0;32m----> 6\u001b[0m \u001b[38;5;28mprint\u001b[39m(\u001b[43mresponse\u001b[49m\u001b[38;5;241;43m.\u001b[39;49m\u001b[43mjson\u001b[49m\u001b[43m(\u001b[49m\u001b[43m)\u001b[49m[\u001b[38;5;124m\"\u001b[39m\u001b[38;5;124mip\u001b[39m\u001b[38;5;124m\"\u001b[39m])\n",
      "File \u001b[0;32m/Library/Frameworks/Python.framework/Versions/3.12/lib/python3.12/site-packages/requests/models.py:975\u001b[0m, in \u001b[0;36mResponse.json\u001b[0;34m(self, **kwargs)\u001b[0m\n\u001b[1;32m    971\u001b[0m     \u001b[38;5;28;01mreturn\u001b[39;00m complexjson\u001b[38;5;241m.\u001b[39mloads(\u001b[38;5;28mself\u001b[39m\u001b[38;5;241m.\u001b[39mtext, \u001b[38;5;241m*\u001b[39m\u001b[38;5;241m*\u001b[39mkwargs)\n\u001b[1;32m    972\u001b[0m \u001b[38;5;28;01mexcept\u001b[39;00m JSONDecodeError \u001b[38;5;28;01mas\u001b[39;00m e:\n\u001b[1;32m    973\u001b[0m     \u001b[38;5;66;03m# Catch JSON-related errors and raise as requests.JSONDecodeError\u001b[39;00m\n\u001b[1;32m    974\u001b[0m     \u001b[38;5;66;03m# This aliases json.JSONDecodeError and simplejson.JSONDecodeError\u001b[39;00m\n\u001b[0;32m--> 975\u001b[0m     \u001b[38;5;28;01mraise\u001b[39;00m RequestsJSONDecodeError(e\u001b[38;5;241m.\u001b[39mmsg, e\u001b[38;5;241m.\u001b[39mdoc, e\u001b[38;5;241m.\u001b[39mpos)\n",
      "\u001b[0;31mJSONDecodeError\u001b[0m: Extra data: line 1 column 7 (char 6)"
     ]
    }
   ],
   "source": [
    "import requests\n",
    "url = \"https://api.ipify.org?format=text\"\n",
    "response = requests.get(url)\n",
    "print(response.status_code)\n",
    "print(response.text)\n",
    "print(response.json()[\"ip\"])"
   ]
  },
  {
   "cell_type": "code",
   "execution_count": 7,
   "id": "3ec970ca-7389-47f7-a793-7c574bbf0245",
   "metadata": {},
   "outputs": [
    {
     "name": "stdout",
     "output_type": "stream",
     "text": [
      "200\n",
      "{\"ip\":\"46.226.162.26\"}\n",
      "46.226.162.26\n"
     ]
    }
   ],
   "source": [
    "import requests\n",
    "url = \"https://api.ipify.org?format=json\"\n",
    "response = requests.get(url)\n",
    "print(response.status_code)\n",
    "print(response.text)\n",
    "print(response.json()[\"ip\"])"
   ]
  },
  {
   "cell_type": "code",
   "execution_count": 8,
   "id": "691aeeac-a6a8-4246-987f-67c1b75f6fa6",
   "metadata": {},
   "outputs": [],
   "source": [
    "import requests"
   ]
  },
  {
   "cell_type": "code",
   "execution_count": 10,
   "id": "b8f05e5e-7bb6-4df7-8a3e-4b7bb040b229",
   "metadata": {},
   "outputs": [],
   "source": [
    "resp = requests.get(\"https://seyed.dev\").text"
   ]
  },
  {
   "cell_type": "code",
   "execution_count": 11,
   "id": "f1736361-8b84-4511-b4be-42a3b83bc199",
   "metadata": {},
   "outputs": [
    {
     "data": {
      "text/plain": [
       "True"
      ]
     },
     "execution_count": 11,
     "metadata": {},
     "output_type": "execute_result"
    }
   ],
   "source": [
    "\"SeYeD Mohammad Khoshnava\" in resp"
   ]
  },
  {
   "cell_type": "code",
   "execution_count": 12,
   "id": "76213b58-fff7-4f1a-b59f-7c00fb9372ed",
   "metadata": {},
   "outputs": [
    {
     "data": {
      "text/plain": [
       "'<!DOCTYPE HTML>\\n<html lang=\"en\">\\n<head>\\n    <meta charset=\"UTF-8\">\\n    <meta http-equiv=\"X-UA-Compatible\" content=\"IE=edge\">\\n    <meta name=\"viewport\" content=\"width=device-width, initial-scale=1.0\">\\n    <link rel=\"stylesheet\" type=\"text/css\" href=\"pub/main.css\">\\n    <link rel=\"stylesheet\" type=\"text/css\" href=\"pub/media.css\">\\n    <title>SeYeD Mohammad Khoshnava</title>\\n</head>\\n<body>  \\n    <div class=\"window\">  \\n        <div class=\"window_header\">\\n            <div class=\"window_title\">Hello World!</div>\\n            <div class=\"window_close_button\"></div>\\n            <div class=\"window_maximize_button\"></div>\\n            <div class=\"window_minimize_button\"></div>\\n        </div>\\n        <div class=\"window_content\">\\n            Web Developer ¯\\\\_(ツ)_/¯<br>\\n            <b>seyed@dev:~$</b> whoami<br>  \\n            I\\'m SeYeD Mohammad Khoshnava</br>\\n            <b>seyed@dev:~$</b> cat /etc/lsb-release<br>  \\n            EMAIL_ADDRESS=\"<a href=\"/cdn-cgi/l/email-protection#bed3dbfecddbc7dbda90dadbc8\"><span class=\"__cf_email__\" data-cfemail=\"771a123704120e121359131201\">[email&#160;protected]</span></a>\" </br>\\n            TELEGRAM=\"<a href=\"https://t.me/seyed_bax\">@SEYED_BAX</a>\" </br>\\n            <b>seyed@dev:~$</b> <span class=\"blink\">_</span><br>  \\n        </div>\\n    </div>\\n<script data-cfasync=\"false\" src=\"/cdn-cgi/scripts/5c5dd728/cloudflare-static/email-decode.min.js\"></script></body>\\n</html>\\n'"
      ]
     },
     "execution_count": 12,
     "metadata": {},
     "output_type": "execute_result"
    }
   ],
   "source": [
    "resp"
   ]
  },
  {
   "cell_type": "code",
   "execution_count": 13,
   "id": "57d5caf9-a599-433c-be11-6256ecc90495",
   "metadata": {},
   "outputs": [
    {
     "data": {
      "text/plain": [
       "['<!DOCTYPE HTML>\\n<html lang=\"en\">\\n<head>\\n    <meta charset=\"UTF-8\">\\n    <meta http-equiv=\"X-UA-Compatible\" content=\"IE=edge\">\\n    <meta name=\"viewport\" content=\"width=device-width, initial-scale=1.0\">\\n    <link rel=\"stylesheet\" type=\"text/css\" href=\"pub/main.css\">\\n    <link rel=\"stylesheet\" type=\"text/css\" href=\"pub/media.css\">\\n    <title>SeYeD Mohammad Khoshnava</title>\\n</head>\\n<body>  \\n    <div class=\"window\">  \\n        <div class=\"window_header\">\\n            <div class=\"window_title\">Hello World!</div>\\n            <div class=\"window_close_button\"></div>\\n            <div class=\"window_maximize_button\"></div>\\n            <div class=\"window_minimize_button\"></div>\\n        </div>\\n        <div class=\"window_content\">\\n            Web Developer ¯\\\\_(ツ)_/¯<br>\\n            <b>seyed@dev:~$</b> ',\n",
       " '<br>  \\n            I\\'m SeYeD Mohammad Khoshnava</br>\\n            <b>seyed@dev:~$</b> cat /etc/lsb-release<br>  \\n            EMAIL_ADDRESS=\"<a href=\"/cdn-cgi/l/email-protection#bed3dbfecddbc7dbda90dadbc8\"><span class=\"__cf_email__\" data-cfemail=\"771a123704120e121359131201\">[email&#160;protected]</span></a>\" </br>\\n            TELEGRAM=\"<a href=\"https://t.me/seyed_bax\">@SEYED_BAX</a>\" </br>\\n            <b>seyed@dev:~$</b> <span class=\"blink\">_</span><br>  \\n        </div>\\n    </div>\\n<script data-cfasync=\"false\" src=\"/cdn-cgi/scripts/5c5dd728/cloudflare-static/email-decode.min.js\"></script></body>\\n</html>\\n']"
      ]
     },
     "execution_count": 13,
     "metadata": {},
     "output_type": "execute_result"
    }
   ],
   "source": [
    "resp.split(\"whoami\")"
   ]
  },
  {
   "cell_type": "code",
   "execution_count": 14,
   "id": "aa987742-cbcd-4090-bd54-9c4866fd9300",
   "metadata": {},
   "outputs": [],
   "source": [
    "import re"
   ]
  },
  {
   "cell_type": "code",
   "execution_count": 19,
   "id": "f7c0eadf-1576-4f93-86de-5cf6795c110c",
   "metadata": {},
   "outputs": [
    {
     "data": {
      "text/plain": [
       "True"
      ]
     },
     "execution_count": 19,
     "metadata": {},
     "output_type": "execute_result"
    }
   ],
   "source": [
    "\"@\" in resp"
   ]
  },
  {
   "cell_type": "code",
   "execution_count": 24,
   "id": "3ddd0f5a-0e7d-489b-9554-f12a1c407a29",
   "metadata": {},
   "outputs": [],
   "source": [
    "usernames = re.findall(\"@[A-Z-a-z-0-9_]+\", resp)"
   ]
  },
  {
   "cell_type": "code",
   "execution_count": 25,
   "id": "b0d07fbe-6e82-48ba-a8c4-1c6a5b4d8139",
   "metadata": {},
   "outputs": [
    {
     "data": {
      "text/plain": [
       "{'@SEYED_BAX', '@dev'}"
      ]
     },
     "execution_count": 25,
     "metadata": {},
     "output_type": "execute_result"
    }
   ],
   "source": [
    "set(usernames)"
   ]
  },
  {
   "cell_type": "code",
   "execution_count": 26,
   "id": "b349ded9-300e-41ff-a602-5334fd2564f2",
   "metadata": {},
   "outputs": [],
   "source": [
    "headers = {\n",
    "    'User-Agent': 'seyed'\n",
    "}"
   ]
  },
  {
   "cell_type": "code",
   "execution_count": 27,
   "id": "aa9f01ef-ed79-4980-9205-2d295012c691",
   "metadata": {},
   "outputs": [],
   "source": [
    "url = \"https://www.web-api.eu/mybrowser\""
   ]
  },
  {
   "cell_type": "code",
   "execution_count": 28,
   "id": "5fbf6eff-8e26-47ef-9d24-b2b98d5c1e23",
   "metadata": {},
   "outputs": [],
   "source": [
    "resp = requests.get(url, headers=headers)"
   ]
  },
  {
   "cell_type": "code",
   "execution_count": 29,
   "id": "ca8d7467-7020-4dfc-94a0-cee6e5186227",
   "metadata": {},
   "outputs": [
    {
     "data": {
      "text/plain": [
       "<Response [200]>"
      ]
     },
     "execution_count": 29,
     "metadata": {},
     "output_type": "execute_result"
    }
   ],
   "source": [
    "resp"
   ]
  },
  {
   "cell_type": "code",
   "execution_count": 30,
   "id": "ee219687-6e51-4d9d-9da2-d7eb0d6fe2d8",
   "metadata": {},
   "outputs": [
    {
     "data": {
      "text/plain": [
       "'<!DOCTYPE html>\\n<html lang=\"en\">\\n<head>\\n  <meta charset=\"utf-8\">\\n  <title>View your User-Agent - web-api.eu</title>\\n  <meta name=\"viewport\" content=\"width=device-width, initial-scale=1\">\\n  <meta name=\"description\" content=\"This free service is used to view the user-agent that you browser sends to websites.\">\\n  <link href=\\'https://fonts.googleapis.com/css?family=Open+Sans:300,400,600,700\\' rel=\\'stylesheet\\' type=\\'text/css\\'>\\n  <link rel=\"stylesheet\" href=\"https://www.web-api.eu/static/style-101.css\">\\n\\n<link rel=\"apple-touch-icon-precomposed\" sizes=\"57x57\" href=\"https://www.web-api.eu/apple-touch-icon-57x57.png\" />\\n<link rel=\"apple-touch-icon-precomposed\" sizes=\"114x114\" href=\"https://www.web-api.eu/apple-touch-icon-114x114.png\" />\\n<link rel=\"apple-touch-icon-precomposed\" sizes=\"72x72\" href=\"https://www.web-api.eu/apple-touch-icon-72x72.png\" />\\n<link rel=\"apple-touch-icon-precomposed\" sizes=\"144x144\" href=\"https://www.web-api.eu/apple-touch-icon-144x144.png\" />\\n<link rel=\"apple-touch-icon-precomposed\" sizes=\"120x120\" href=\"https://www.web-api.eu/apple-touch-icon-120x120.png\" />\\n<link rel=\"apple-touch-icon-precomposed\" sizes=\"152x152\" href=\"https://www.web-api.eu/apple-touch-icon-152x152.png\" />\\n<link rel=\"icon\" type=\"image/png\" href=\"https://www.web-api.eu/favicon-32x32.png\" sizes=\"32x32\" />\\n<link rel=\"icon\" type=\"image/png\" href=\"https://www.web-api.eu/favicon-16x16.png\" sizes=\"16x16\" />\\n<meta name=\"application-name\" content=\"Web-api.eu\"/>\\n<meta name=\"msapplication-TileColor\" content=\"#296AA6\" />\\n<meta name=\"msapplication-TileImage\" content=\"https://www.web-api.eu/mstile-144x144.png\" />\\n<meta name=\"msapplication-square310x310logo\" content=\"https://www.web-api.eu/mstile-310x310.png\" />\\n\\n  <link rel=\"canonical\" href=\"https://www.web-api.eu/mybrowser\" />\\n  <link rel=\"dns-prefetch\" href=\"https://www.web-api.eu/images/\">\\n\\n<script type=text/javascript>\\nvar _cpp = _cpp || [];\\n_cpp[\\'source_id\\'] = \\'79649\\';\\n_cpp[\\'pop_type\\'] = \\'11\\';\\n_cpp[\\'onePer\\'] = \\'0\\';\\n_cpp[\\'freq\\'] = \\'300\\';\\n_cpp[\\'fb\\'] = \\'01\\';\\n(function() {\\nvar hs = document.createElement(\\'script\\'); hs.type = \\'text/javascript\\'; hs.async = true;\\nhs.src = (\\'//cdn1.adcdnx.com/s/adp1v3.js\\');\\nvar cs = document.getElementsByTagName(\\'script\\')[0];\\ncs.parentNode.insertBefore(hs, cs);\\n})();</script>\\n\\n</head>\\n<body>\\n  <div class=\"head_section mybrowser\">\\n    <div class=\"container\">\\n      <div class=\"logo\"><a href=\"https://www.web-api.eu/\"><img src=\"https://www.web-api.eu/images/logo.png\" alt=\"web-api\"></a></div>\\n      <div class=\"clear\"></div>\\n      <div class=\"moto\"><a href=\"https://www.web-api.eu/mybrowser\">View your user-agent</a></div>\\n      <div class=\"offer\">What user-agent does my browser send?</div>\\n    </div>\\n  </div>  <div class=\"main_section\">\\n    <div class=\"box_section\">\\n      <div class=\"box_data\">\\n        <div class=\\'service_info\\'><br/><br/>\\n          <strong class=\"ip_head\">Your browser\\'s user-agent is</strong>:<br/>\\n          <div class=\"ip_data\">seyed</div>\\n\\n\\n          </form>\\n      </div>\\n    </div>\\n    <div class=\"clear\"></div>\\n  </div>  <div class=\"footer_section\">\\n    <div class=\"footer-text\"><a href=\"https://www.web-api.eu/contact\">CONTACT US</a> | Copyright © 2017-2024</div>\\n  </div>\\n  <script src=\"https://www.web-api.eu/static/jquery-3.5.1.min.js\"></script>\\n\\n</body>\\n</html>'"
      ]
     },
     "execution_count": 30,
     "metadata": {},
     "output_type": "execute_result"
    }
   ],
   "source": [
    "resp.text"
   ]
  },
  {
   "cell_type": "code",
   "execution_count": 31,
   "id": "6808138c-cdf3-4e09-8df8-d414ce7d8eec",
   "metadata": {},
   "outputs": [
    {
     "data": {
      "text/plain": [
       "False"
      ]
     },
     "execution_count": 31,
     "metadata": {},
     "output_type": "execute_result"
    }
   ],
   "source": [
    "\"Your browser's\" in resp"
   ]
  },
  {
   "cell_type": "code",
   "execution_count": 32,
   "id": "b34f70ac-928b-408b-a958-3ebf531d656b",
   "metadata": {},
   "outputs": [
    {
     "data": {
      "text/plain": [
       "{'Server': 'nginx', 'Date': 'Sat, 08 Jun 2024 18:17:21 GMT', 'Content-Type': 'text/html; charset=utf-8', 'Content-Length': '1144', 'Connection': 'keep-alive', 'Vary': 'Accept-Encoding', 'Content-Encoding': 'gzip', 'Strict-Transport-Security': 'max-age=10886400; preload', 'X-Content-Type-Options': 'nosniff', 'X-XSS-Protection': '0'}"
      ]
     },
     "execution_count": 32,
     "metadata": {},
     "output_type": "execute_result"
    }
   ],
   "source": [
    "resp.headers"
   ]
  },
  {
   "cell_type": "code",
   "execution_count": 33,
   "id": "36f1bb42-9af0-45e5-bcc5-d52ea62f5296",
   "metadata": {},
   "outputs": [],
   "source": [
    "url = \"https://useragent.deta.dev/ewfoerwinfoweirn\""
   ]
  },
  {
   "cell_type": "code",
   "execution_count": 34,
   "id": "ebb027a6-320f-44a7-bfed-b6a391138efa",
   "metadata": {},
   "outputs": [
    {
     "data": {
      "text/plain": [
       "404"
      ]
     },
     "execution_count": 34,
     "metadata": {},
     "output_type": "execute_result"
    }
   ],
   "source": [
    "requests.get(url).status_code"
   ]
  },
  {
   "cell_type": "code",
   "execution_count": null,
   "id": "80c9a7fe-928d-4f95-b891-f15f2a652609",
   "metadata": {},
   "outputs": [],
   "source": []
  }
 ],
 "metadata": {
  "kernelspec": {
   "display_name": "Python 3 (ipykernel)",
   "language": "python",
   "name": "python3"
  },
  "language_info": {
   "codemirror_mode": {
    "name": "ipython",
    "version": 3
   },
   "file_extension": ".py",
   "mimetype": "text/x-python",
   "name": "python",
   "nbconvert_exporter": "python",
   "pygments_lexer": "ipython3",
   "version": "3.12.0"
  }
 },
 "nbformat": 4,
 "nbformat_minor": 5
}
