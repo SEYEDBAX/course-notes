{
 "cells": [
  {
   "cell_type": "markdown",
   "id": "81d0b341-6a16-4e8d-bc0b-01eeadb13daa",
   "metadata": {},
   "source": [
    "# Logging in Python: A Comprehensive Guide\n",
    "\n",
    "## Introduction to Logging\n",
    "\n",
    "Logging is a critical aspect of software development and maintenance. It involves recording events, errors, and other important information during the execution of a program. Effective logging allows developers to diagnose issues, understand application behavior, and ensure smooth operation.\n",
    "\n",
    "## Importance of Logs\n",
    "\n",
    "1. **Debugging**: Logs help in identifying the root cause of issues by providing a trail of events leading to an error.\n",
    "2. **Monitoring**: Continuous logging enables real-time monitoring of applications, ensuring they run as expected.\n",
    "3. **Auditing**: Logs serve as an audit trail for security and compliance purposes.\n",
    "4. **Performance Optimization**: By analyzing logs, developers can identify performance bottlenecks and optimize the application.\n",
    "5. **User Support**: Detailed logs can assist support teams in resolving user issues more effectively.\n",
    "\n",
    "## Logging in Python\n",
    "\n",
    "Python’s built-in `logging` module provides a flexible framework for emitting log messages from Python programs. Here's a basic example:\n",
    "\n",
    "### Basic Logging"
   ]
  },
  {
   "cell_type": "code",
   "execution_count": 6,
   "id": "25e1bc43-554b-4780-9c5e-ad4fad51d933",
   "metadata": {},
   "outputs": [
    {
     "name": "stderr",
     "output_type": "stream",
     "text": [
      "INFO:root:This is an info message\n",
      "WARNING:root:This is a warning message\n",
      "ERROR:root:This is an error message\n",
      "CRITICAL:root:This is a critical message\n"
     ]
    }
   ],
   "source": [
    "import logging\n",
    "\n",
    "logging.basicConfig()\n",
    "logging.getLogger().setLevel(logging.INFO)\n",
    "logging.debug('This is a debug message')\n",
    "logging.info('This is an info message')\n",
    "logging.warning('This is a warning message')\n",
    "logging.error('This is an error message')\n",
    "logging.critical('This is a critical message')"
   ]
  },
  {
   "cell_type": "markdown",
   "id": "51210b92-4891-418f-8324-57e806e0b7d8",
   "metadata": {},
   "source": [
    "### Explanation\n",
    "- **Level**: Determines the importance of the message. The levels are `DEBUG`, `INFO`, `WARNING`, `ERROR`, and `CRITICAL`.\n",
    "- **basicConfig**: Configures the logging system with basic settings.\n",
    "\n",
    "## Advanced Logging Concepts\n",
    "\n",
    "### Colored Logs\n",
    "\n",
    "Colored logs enhance readability, especially when debugging. You can use third-party libraries like `coloredlogs` for this purpose."
   ]
  },
  {
   "cell_type": "code",
   "execution_count": 10,
   "id": "296a9d52-95dd-4fbf-8d9e-f4899e29ff48",
   "metadata": {},
   "outputs": [
    {
     "name": "stdout",
     "output_type": "stream",
     "text": [
      "Requirement already satisfied: coloredlogs in /Users/seyed/miniconda3/lib/python3.10/site-packages (15.0.1)\n",
      "Requirement already satisfied: humanfriendly>=9.1 in /Users/seyed/miniconda3/lib/python3.10/site-packages (from coloredlogs) (10.0)\n"
     ]
    }
   ],
   "source": [
    "!pip install coloredlogs"
   ]
  },
  {
   "cell_type": "code",
   "execution_count": 11,
   "id": "713e52d1-3349-46d7-816d-b793ca5fbc3f",
   "metadata": {},
   "outputs": [
    {
     "ename": "ModuleNotFoundError",
     "evalue": "No module named 'coloredlogs'",
     "output_type": "error",
     "traceback": [
      "\u001b[0;31m---------------------------------------------------------------------------\u001b[0m",
      "\u001b[0;31mModuleNotFoundError\u001b[0m                       Traceback (most recent call last)",
      "Cell \u001b[0;32mIn[11], line 2\u001b[0m\n\u001b[1;32m      1\u001b[0m \u001b[38;5;28;01mimport\u001b[39;00m \u001b[38;5;21;01mlogging\u001b[39;00m\n\u001b[0;32m----> 2\u001b[0m \u001b[38;5;28;01mimport\u001b[39;00m \u001b[38;5;21;01mcoloredlogs\u001b[39;00m\n\u001b[1;32m      4\u001b[0m coloredlogs\u001b[38;5;241m.\u001b[39minstall(level\u001b[38;5;241m=\u001b[39m\u001b[38;5;124m'\u001b[39m\u001b[38;5;124mDEBUG\u001b[39m\u001b[38;5;124m'\u001b[39m)\n\u001b[1;32m      6\u001b[0m logging\u001b[38;5;241m.\u001b[39mdebug(\u001b[38;5;124m'\u001b[39m\u001b[38;5;124mThis is a debug message\u001b[39m\u001b[38;5;124m'\u001b[39m)\n",
      "\u001b[0;31mModuleNotFoundError\u001b[0m: No module named 'coloredlogs'"
     ]
    }
   ],
   "source": [
    "import logging\n",
    "import coloredlogs\n",
    "\n",
    "coloredlogs.install(level='DEBUG')\n",
    "\n",
    "logging.debug('This is a debug message')\n",
    "logging.info('This is an info message')\n",
    "logging.warning('This is a warning message')\n",
    "logging.error('This is an error message')\n",
    "logging.critical('This is a critical message')"
   ]
  },
  {
   "cell_type": "markdown",
   "id": "42262b20-7cf0-4ff8-9d10-7d1e0a13f274",
   "metadata": {},
   "source": [
    "### Storing Logs in a File\n",
    "\n",
    "To store logs in a file, configure the `FileHandler`."
   ]
  },
  {
   "cell_type": "code",
   "execution_count": 12,
   "id": "16b4c69d-1c62-4d1d-8402-03abd9e77336",
   "metadata": {},
   "outputs": [],
   "source": [
    "import logging\n",
    "\n",
    "logging.basicConfig(filename='app.log', filemode='w', level=logging.DEBUG)\n",
    "logging.debug('This message will be written to a file')"
   ]
  },
  {
   "cell_type": "markdown",
   "id": "74664467-2bf1-4ec1-92ed-1bc7c768cc3b",
   "metadata": {},
   "source": [
    "### Customizing Logs\n",
    "\n",
    "Customizing log format and adding multiple handlers (e.g., console and file) enhances the logging output."
   ]
  },
  {
   "cell_type": "code",
   "execution_count": null,
   "id": "4e27a370-59b1-4c7b-b5ac-b0640cd30e71",
   "metadata": {},
   "outputs": [],
   "source": [
    "import logging\n",
    "\n",
    "# Create custom logger\n",
    "logger = logging.getLogger('custom_logger')\n",
    "logger.setLevel(logging.DEBUG)\n",
    "\n",
    "# Create handlers\n",
    "console_handler = logging.StreamHandler()\n",
    "file_handler = logging.FileHandler('custom.log')\n",
    "console_handler.setLevel(logging.DEBUG)\n",
    "file_handler.setLevel(logging.WARNING)\n",
    "\n",
    "# Create formatters and add to handlers\n",
    "console_format = logging.Formatter('%(asctime)s - %(name)s - %(levelname)s - %(message)s')\n",
    "file_format = logging.Formatter('%(asctime)s - %(name)s - %(levelname)s - %(message)s')\n",
    "console_handler.setFormatter(console_format)\n",
    "file_handler.setFormatter(file_format)\n",
    "\n",
    "# Add handlers to the logger\n",
    "logger.addHandler(console_handler)\n",
    "logger.addHandler(file_handler)\n",
    "\n",
    "logger.debug('This is a debug message')\n",
    "logger.warning('This is a warning message')\n",
    "logger.error('This is an error message')"
   ]
  },
  {
   "cell_type": "markdown",
   "id": "9f573f90-9035-4b82-b2c3-8b30dafd8938",
   "metadata": {},
   "source": [
    "### Running with Different Log Levels\n",
    "\n",
    "You can control the log level dynamically by setting the environment variable or using command-line arguments."
   ]
  },
  {
   "cell_type": "code",
   "execution_count": null,
   "id": "164aa2c0-ee33-468d-9549-70e49e70f157",
   "metadata": {},
   "outputs": [],
   "source": [
    "import logging\n",
    "import sys\n",
    "\n",
    "log_level = logging.DEBUG if '--debug' in sys.argv else logging.INFO\n",
    "logging.basicConfig(level=log_level)\n",
    "logging.debug('This will appear if --debug is used')\n",
    "logging.info('This is an info message')"
   ]
  },
  {
   "cell_type": "markdown",
   "id": "dba2c19b-8fc1-4082-968e-28c02abef552",
   "metadata": {},
   "source": [
    "\n",
    "### Plugins and Libraries for Logging in Python\n",
    "\n",
    "1. **Loguru**: A modern logging library that simplifies logging setup.\n"
   ]
  },
  {
   "cell_type": "code",
   "execution_count": null,
   "id": "5705d932-de12-4063-8a14-dddfbd84e802",
   "metadata": {},
   "outputs": [],
   "source": [
    "from loguru import logger\n",
    "\n",
    "logger.debug('This is a debug message')\n",
    "logger.info('This is an info message')"
   ]
  },
  {
   "cell_type": "markdown",
   "id": "96233bff-4572-478c-8dfa-c943b36716bb",
   "metadata": {},
   "source": [
    "2. **structlog**: Enhances structured logging, making logs more readable and easier to parse."
   ]
  },
  {
   "cell_type": "code",
   "execution_count": null,
   "id": "d58a419d-465a-4749-a25d-456b3687ea38",
   "metadata": {},
   "outputs": [],
   "source": [
    "import structlog\n",
    "\n",
    "log = structlog.get_logger()\n",
    "log.info('hello', whom='world', more_info=[1, 2, 3])"
   ]
  },
  {
   "cell_type": "markdown",
   "id": "bf9d954c-c656-4628-8033-4d689ae4e2bb",
   "metadata": {},
   "source": [
    "3. **sentry-sdk**: For integrating logging with Sentry to capture errors and exceptions."
   ]
  },
  {
   "cell_type": "code",
   "execution_count": null,
   "id": "9d29b82b-417f-4868-aea3-1a0b84b4887b",
   "metadata": {},
   "outputs": [],
   "source": [
    "import sentry_sdk\n",
    "sentry_sdk.init(dsn=\"your_sentry_dsn\")\n",
    "\n",
    "try:\n",
    "    1 / 0\n",
    "except ZeroDivisionError:\n",
    "    sentry_sdk.capture_exception()"
   ]
  },
  {
   "cell_type": "markdown",
   "id": "f2e2397a-3272-4abc-87cb-cc68ed3cb94f",
   "metadata": {},
   "source": [
    "### Difference Between Logging and Printing\n",
    "\n",
    "Both logging and printing are methods to output information in a program, but they serve different purposes and are used in different contexts. Here’s a detailed comparison between the two:\n",
    "\n",
    "## Purpose and Use Cases\n",
    "\n",
    "### Printing\n",
    "- **Purpose**: Printing is generally used for quick, informal output, often during development or debugging to check the values of variables or the flow of execution.\n",
    "- **Use Case**: Ideal for simple scripts, quick checks, and learning purposes where detailed record-keeping or level-based categorization of messages is not necessary.\n",
    "\n",
    "### Logging\n",
    "- **Purpose**: Logging is used for systematic recording of events that happen during the execution of a program. It’s designed to provide a permanent record of information, which is useful for monitoring, debugging, and auditing.\n",
    "- **Use Case**: Suitable for production code, long-running applications, and any scenario where maintaining a historical record of events, errors, and other significant occurrences is crucial.\n",
    "\n",
    "## Features and Capabilities\n",
    "\n",
    "### Printing\n",
    "- **Simplicity**: The `print` statement or function is straightforward and easy to use without any configuration.\n",
    "    ```python\n",
    "    print(\"This is a message\")\n",
    "    ```\n",
    "- **Output**: Prints directly to the standard output (usually the console). It does not have built-in support for directing output to different destinations like files or logging services.\n",
    "- **No Levels**: All messages are treated equally without categorization.\n",
    "\n",
    "### Logging\n",
    "- **Complexity and Flexibility**: Requires more setup but provides extensive customization and control over the logging output.\n",
    "    ```python\n",
    "    import logging\n",
    "    logging.basicConfig(level=logging.DEBUG)\n",
    "    logging.info(\"This is an informational message\")\n",
    "    ```\n",
    "- **Output Destinations**: Can direct output to multiple destinations such as console, files, remote servers, and more, using different handlers.\n",
    "- **Log Levels**: Supports multiple severity levels (`DEBUG`, `INFO`, `WARNING`, `ERROR`, `CRITICAL`) to categorize messages.\n",
    "- **Format Customization**: Allows customizing the format of log messages to include timestamps, log level, and other contextual information.\n",
    "    ```python\n",
    "    logging.basicConfig(format='%(asctime)s - %(levelname)s - %(message)s')\n",
    "    ```\n",
    "- **Configuration**: Can be configured to filter messages based on severity level, set different levels for different parts of an application, and dynamically change the logging configuration.\n",
    "\n",
    "## Performance and Overhead\n",
    "\n",
    "### Printing\n",
    "- **Performance**: Typically faster for simple messages since it directly outputs to the console without additional processing.\n",
    "- **Overhead**: Minimal overhead, but not suitable for managing large amounts of output systematically.\n",
    "\n",
    "### Logging\n",
    "- **Performance**: Slightly more overhead due to additional processing, such as formatting and handling different output destinations.\n",
    "- **Overhead**: Acceptable for most applications, with the advantage of providing rich features and structured output management.\n",
    "\n",
    "## Practical Considerations\n",
    "\n",
    "### Printing\n",
    "- **Not Persistent**: Printed output is lost once the program terminates unless redirected to a file manually.\n",
    "- **Informal**: Lacks the structure and consistency required for maintaining a long-term record of application behavior.\n",
    "\n",
    "### Logging\n",
    "- **Persistent**: Logs can be stored in files or other storage systems, providing a permanent record.\n",
    "- **Professional and Structured**: Offers a more professional and structured approach to recording application events, aiding in debugging, monitoring, and auditing.\n",
    "\n",
    "## Summary\n",
    "\n",
    "| Feature               | Printing                                 | Logging                                 |\n",
    "|-----------------------|------------------------------------------|-----------------------------------------|\n",
    "| Purpose               | Quick, informal output                   | Systematic recording of events          |\n",
    "| Use Case              | Development, debugging, learning         | Production code, monitoring, auditing   |\n",
    "| Complexity            | Simple, no setup required                | Configurable, flexible, requires setup  |\n",
    "| Output Destination    | Console (standard output)                | Multiple destinations (console, files)  |\n",
    "| Log Levels            | No levels                                | Supports multiple severity levels       |\n",
    "| Format Customization  | Minimal                                  | Extensive customization options         |\n",
    "| Performance           | Faster for simple output                 | Slightly more overhead for rich features|\n",
    "| Persistence           | Not persistent (unless redirected)       | Persistent, suitable for long-term record|\n",
    "\n",
    "In conclusion, while `print` is useful for quick and temporary output, `logging` provides a robust, flexible, and comprehensive solution for managing application output, especially in production environments where maintaining detailed and organized records is essential."
   ]
  },
  {
   "cell_type": "code",
   "execution_count": null,
   "id": "e823daee-e76c-401d-8cdd-f129115923b4",
   "metadata": {},
   "outputs": [],
   "source": []
  }
 ],
 "metadata": {
  "kernelspec": {
   "display_name": "Python 3 (ipykernel)",
   "language": "python",
   "name": "python3"
  },
  "language_info": {
   "codemirror_mode": {
    "name": "ipython",
    "version": 3
   },
   "file_extension": ".py",
   "mimetype": "text/x-python",
   "name": "python",
   "nbconvert_exporter": "python",
   "pygments_lexer": "ipython3",
   "version": "3.12.0"
  }
 },
 "nbformat": 4,
 "nbformat_minor": 5
}
