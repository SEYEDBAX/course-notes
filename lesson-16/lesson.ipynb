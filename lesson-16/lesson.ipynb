{
 "cells": [
  {
   "cell_type": "markdown",
   "id": "7266deb4-b78f-4703-9ad0-e5279881896c",
   "metadata": {},
   "source": [
    "# جلسه ۱۶\n",
    "کار با requests در پایتون جلسه دوم"
   ]
  },
  {
   "cell_type": "code",
   "execution_count": 64,
   "id": "aa7f050a-e999-4a84-a438-3d30de978a36",
   "metadata": {},
   "outputs": [
    {
     "name": "stdout",
     "output_type": "stream",
     "text": [
      "Requirement already satisfied: fastapi in /Users/seyed/miniconda3/lib/python3.10/site-packages (0.105.0)\n",
      "Requirement already satisfied: anyio<4.0.0,>=3.7.1 in /Users/seyed/miniconda3/lib/python3.10/site-packages (from fastapi) (3.7.1)\n",
      "Requirement already satisfied: typing-extensions>=4.8.0 in /Users/seyed/miniconda3/lib/python3.10/site-packages (from fastapi) (4.9.0)\n",
      "Requirement already satisfied: starlette<0.28.0,>=0.27.0 in /Users/seyed/miniconda3/lib/python3.10/site-packages (from fastapi) (0.27.0)\n",
      "Requirement already satisfied: pydantic!=1.8,!=1.8.1,!=2.0.0,!=2.0.1,!=2.1.0,<3.0.0,>=1.7.4 in /Users/seyed/miniconda3/lib/python3.10/site-packages (from fastapi) (2.6.4)\n",
      "Requirement already satisfied: sniffio>=1.1 in /Users/seyed/miniconda3/lib/python3.10/site-packages (from anyio<4.0.0,>=3.7.1->fastapi) (1.3.0)\n",
      "Requirement already satisfied: exceptiongroup in /Users/seyed/miniconda3/lib/python3.10/site-packages (from anyio<4.0.0,>=3.7.1->fastapi) (1.1.1)\n",
      "Requirement already satisfied: idna>=2.8 in /Users/seyed/miniconda3/lib/python3.10/site-packages (from anyio<4.0.0,>=3.7.1->fastapi) (3.6)\n",
      "Requirement already satisfied: pydantic-core==2.16.3 in /Users/seyed/miniconda3/lib/python3.10/site-packages (from pydantic!=1.8,!=1.8.1,!=2.0.0,!=2.0.1,!=2.1.0,<3.0.0,>=1.7.4->fastapi) (2.16.3)\n",
      "Requirement already satisfied: annotated-types>=0.4.0 in /Users/seyed/miniconda3/lib/python3.10/site-packages (from pydantic!=1.8,!=1.8.1,!=2.0.0,!=2.0.1,!=2.1.0,<3.0.0,>=1.7.4->fastapi) (0.6.0)\n"
     ]
    }
   ],
   "source": [
    "!pip install fastapi"
   ]
  },
  {
   "cell_type": "code",
   "execution_count": 4,
   "id": "6f4795b0-c1d3-4808-8afb-0cb52cb2dc03",
   "metadata": {},
   "outputs": [],
   "source": [
    "base_url = \"http://localhost:9090\""
   ]
  },
  {
   "cell_type": "code",
   "execution_count": 5,
   "id": "8a22028b-90a9-4130-8140-fc61bebf8867",
   "metadata": {},
   "outputs": [],
   "source": [
    "import requests"
   ]
  },
  {
   "cell_type": "code",
   "execution_count": 6,
   "id": "8d8a5fbb-6657-4bdd-82fc-fa694abc268b",
   "metadata": {},
   "outputs": [
    {
     "data": {
      "text/plain": [
       "'{\"message\":\"Welcome to the FastAPI Demo API!\"}'"
      ]
     },
     "execution_count": 6,
     "metadata": {},
     "output_type": "execute_result"
    }
   ],
   "source": [
    "requests.get(base_url).text"
   ]
  },
  {
   "cell_type": "markdown",
   "id": "60e37709-d112-4bd0-8431-beb5db3af2bf",
   "metadata": {},
   "source": [
    "# calculate mathod"
   ]
  },
  {
   "cell_type": "code",
   "execution_count": 7,
   "id": "a2721843-5c60-4804-b9df-fec5ba24aeac",
   "metadata": {},
   "outputs": [
    {
     "data": {
      "text/plain": [
       "'{\"sum\":50,\"difference\":-10,\"product\":600,\"quotient\":0.6666666666666666}'"
      ]
     },
     "execution_count": 7,
     "metadata": {},
     "output_type": "execute_result"
    }
   ],
   "source": [
    "x = 20\n",
    "y = 40\n",
    "response = requests.get(f\"{base_url}/calculate/{x}/{y}\")\n",
    "response.text"
   ]
  },
  {
   "cell_type": "code",
   "execution_count": 8,
   "id": "050df7b8-1b0d-45c5-9b4e-c5d43c91b0b3",
   "metadata": {},
   "outputs": [
    {
     "name": "stdout",
     "output_type": "stream",
     "text": [
      "sum =  50\n"
     ]
    }
   ],
   "source": [
    "print(\n",
    "    \"sum = \", response.json()[\"sum\"]\n",
    ")"
   ]
  },
  {
   "cell_type": "code",
   "execution_count": 9,
   "id": "e08312af-6ddc-4649-bec0-f7b1e2d856f3",
   "metadata": {},
   "outputs": [
    {
     "data": {
      "text/plain": [
       "'{\"year\":2024,\"month\":6,\"day\":12,\"hour\":17,\"minute\":53,\"second\":51}'"
      ]
     },
     "execution_count": 9,
     "metadata": {},
     "output_type": "execute_result"
    }
   ],
   "source": [
    "resp = requests.get(f\"{base_url}/time-info\")\n",
    "resp.text"
   ]
  },
  {
   "cell_type": "code",
   "execution_count": 10,
   "id": "5442209b-f28f-4284-a421-083da807261e",
   "metadata": {},
   "outputs": [
    {
     "data": {
      "text/plain": [
       "200"
      ]
     },
     "execution_count": 10,
     "metadata": {},
     "output_type": "execute_result"
    }
   ],
   "source": [
    "resp.status_code"
   ]
  },
  {
   "cell_type": "markdown",
   "id": "4d9d5db9-8667-4453-b0b3-b53d84702220",
   "metadata": {},
   "source": [
    "# HTTP status code"
   ]
  },
  {
   "cell_type": "code",
   "execution_count": 23,
   "id": "84f49076-de0d-407e-b074-dc296cbcce5b",
   "metadata": {},
   "outputs": [],
   "source": [
    "status_code = 200"
   ]
  },
  {
   "cell_type": "code",
   "execution_count": 24,
   "id": "f011a938-c9f2-42e2-b977-d9afc24faf6b",
   "metadata": {},
   "outputs": [],
   "source": [
    "resp = requests.get(f\"{base_url}/status/{status_code}\")"
   ]
  },
  {
   "cell_type": "code",
   "execution_count": 25,
   "id": "37fa209e-98bc-4c74-b637-873bb3564c61",
   "metadata": {},
   "outputs": [
    {
     "data": {
      "text/plain": [
       "200"
      ]
     },
     "execution_count": 25,
     "metadata": {},
     "output_type": "execute_result"
    }
   ],
   "source": [
    "resp.status_code"
   ]
  },
  {
   "cell_type": "code",
   "execution_count": 26,
   "id": "d1d81399-9dbb-4580-9c9d-d3fc959fee3a",
   "metadata": {},
   "outputs": [
    {
     "name": "stdout",
     "output_type": "stream",
     "text": [
      "requests sucsess\n"
     ]
    }
   ],
   "source": [
    "if resp.status_code == 200:\n",
    "    print(\"requests sucsess\")"
   ]
  },
  {
   "cell_type": "markdown",
   "id": "3c2708d2-d599-44fd-9007-ad16e43098d8",
   "metadata": {},
   "source": [
    "# User-Agnent"
   ]
  },
  {
   "cell_type": "code",
   "execution_count": 35,
   "id": "4a96794c-959f-419d-afbb-c8511a068203",
   "metadata": {},
   "outputs": [],
   "source": [
    "headers = {\n",
    "    'user-agent': 'Mozilla/5.0 (Macintosh; Intel Mac OS X 14_5) AppleWebKit/605.1.15 (KHTML, like Gecko) Version/17.4.1 Safari/605.1.15'\n",
    "}"
   ]
  },
  {
   "cell_type": "code",
   "execution_count": 36,
   "id": "b8fc9280-12e8-46ef-b1c0-f19ce207d413",
   "metadata": {},
   "outputs": [],
   "source": [
    "resp = requests.get(f\"{base_url}/show-user-agent\", headers=headers)"
   ]
  },
  {
   "cell_type": "code",
   "execution_count": 37,
   "id": "633b2e37-a789-4643-ace9-c66177d18c5f",
   "metadata": {},
   "outputs": [
    {
     "data": {
      "text/plain": [
       "{'user_agent': 'Mozilla/5.0 (Macintosh; Intel Mac OS X 14_5) AppleWebKit/605.1.15 (KHTML, like Gecko) Version/17.4.1 Safari/605.1.15'}"
      ]
     },
     "execution_count": 37,
     "metadata": {},
     "output_type": "execute_result"
    }
   ],
   "source": [
    "resp.json()"
   ]
  },
  {
   "cell_type": "markdown",
   "id": "0bbca8fc-d885-4fb8-b4fc-dc08168b7722",
   "metadata": {},
   "source": [
    "# Headers"
   ]
  },
  {
   "cell_type": "code",
   "execution_count": 41,
   "id": "33032ca4-41e0-4f00-8c08-c25876cdb2b5",
   "metadata": {},
   "outputs": [],
   "source": [
    "headers = {\n",
    "    'user-agent': 'salam',\n",
    "    'seyed-bax': 'https://www.youtube.com/@SeYeDBax',\n",
    "    'host': 'google.com'\n",
    "}"
   ]
  },
  {
   "cell_type": "code",
   "execution_count": 42,
   "id": "14e463d6-182e-4bed-b39f-fc605574f89c",
   "metadata": {},
   "outputs": [],
   "source": [
    "resp = requests.get(f\"{base_url}/show-headers\", headers=headers)"
   ]
  },
  {
   "cell_type": "code",
   "execution_count": 43,
   "id": "c21567e6-51d9-4154-ab1b-259d8eccfa46",
   "metadata": {},
   "outputs": [
    {
     "data": {
      "text/plain": [
       "{'headers': {'user-agent': 'salam',\n",
       "  'accept-encoding': 'gzip, deflate',\n",
       "  'accept': '*/*',\n",
       "  'connection': 'keep-alive',\n",
       "  'seyed-bax': 'https://www.youtube.com/@SeYeDBax',\n",
       "  'host': 'google.com'}}"
      ]
     },
     "execution_count": 43,
     "metadata": {},
     "output_type": "execute_result"
    }
   ],
   "source": [
    "resp.json()"
   ]
  },
  {
   "cell_type": "markdown",
   "id": "6a200716-e1f5-4f13-a591-e97620508b3a",
   "metadata": {},
   "source": [
    "# Methods"
   ]
  },
  {
   "cell_type": "code",
   "execution_count": 44,
   "id": "6bf83f2b-55ad-44e8-a618-5f45c0c0218c",
   "metadata": {},
   "outputs": [],
   "source": [
    "resp = requests.post(f\"{base_url}/method-post\")"
   ]
  },
  {
   "cell_type": "code",
   "execution_count": 45,
   "id": "ef1b1d75-834c-48c0-878e-71a767e34839",
   "metadata": {},
   "outputs": [
    {
     "data": {
      "text/plain": [
       "{'method': 'POST'}"
      ]
     },
     "execution_count": 45,
     "metadata": {},
     "output_type": "execute_result"
    }
   ],
   "source": [
    "resp.json()"
   ]
  },
  {
   "cell_type": "code",
   "execution_count": null,
   "id": "6a0dc8d4-6836-4052-96cc-27d973dd037d",
   "metadata": {},
   "outputs": [],
   "source": []
  },
  {
   "cell_type": "code",
   "execution_count": 46,
   "id": "820014b8-7499-48a7-ac75-a497ab98d183",
   "metadata": {},
   "outputs": [],
   "source": [
    "resp = requests.delete(f\"{base_url}/method-delete\")"
   ]
  },
  {
   "cell_type": "code",
   "execution_count": 47,
   "id": "549f4288-3634-45a3-868a-e7b8a9d36544",
   "metadata": {},
   "outputs": [
    {
     "data": {
      "text/plain": [
       "{'method': 'DELETE'}"
      ]
     },
     "execution_count": 47,
     "metadata": {},
     "output_type": "execute_result"
    }
   ],
   "source": [
    "resp.json()"
   ]
  },
  {
   "cell_type": "markdown",
   "id": "683f46ac-7f47-4a2a-ab6d-00fb85083033",
   "metadata": {},
   "source": [
    "# Greet"
   ]
  },
  {
   "cell_type": "code",
   "execution_count": null,
   "id": "58a37fc4-82e6-4fbc-b3d2-d801ee981305",
   "metadata": {},
   "outputs": [],
   "source": []
  },
  {
   "cell_type": "code",
   "execution_count": 52,
   "id": "ac9927b6-2550-4c20-9355-48bd65835db1",
   "metadata": {},
   "outputs": [],
   "source": [
    "resp = requests.get(f\"{base_url}/greet/seyed\")"
   ]
  },
  {
   "cell_type": "code",
   "execution_count": 53,
   "id": "c2813f87-6be9-4c2c-a854-4d4332393601",
   "metadata": {},
   "outputs": [
    {
     "data": {
      "text/plain": [
       "{'message': 'Hello, seyed!'}"
      ]
     },
     "execution_count": 53,
     "metadata": {},
     "output_type": "execute_result"
    }
   ],
   "source": [
    "resp.json()"
   ]
  },
  {
   "cell_type": "code",
   "execution_count": 54,
   "id": "8cac3cf7-6256-4b36-b5c2-007968f5c979",
   "metadata": {},
   "outputs": [
    {
     "data": {
      "text/plain": [
       "200"
      ]
     },
     "execution_count": 54,
     "metadata": {},
     "output_type": "execute_result"
    }
   ],
   "source": [
    "resp.status_code"
   ]
  },
  {
   "cell_type": "markdown",
   "id": "e49ba956-cf99-4382-b854-5bd2246d2c3c",
   "metadata": {},
   "source": [
    "# مثال از اسکرپ وب (آموزش اختیاری/ فعلا مبحث اصلی درس نیست)"
   ]
  },
  {
   "cell_type": "code",
   "execution_count": 55,
   "id": "513bb530-eeb9-4e74-8542-dae77d8e50e5",
   "metadata": {},
   "outputs": [
    {
     "name": "stdout",
     "output_type": "stream",
     "text": [
      "Requirement already satisfied: beautifulsoup4 in /Users/seyed/miniconda3/lib/python3.10/site-packages (4.11.2)\n",
      "Requirement already satisfied: soupsieve>1.2 in /Users/seyed/miniconda3/lib/python3.10/site-packages (from beautifulsoup4) (2.3.2.post1)\n"
     ]
    }
   ],
   "source": [
    "!pip install beautifulsoup4"
   ]
  },
  {
   "cell_type": "code",
   "execution_count": 56,
   "id": "89cc55fd-93e1-4803-98f4-fe9c03b8e1ac",
   "metadata": {},
   "outputs": [],
   "source": [
    "from bs4 import BeautifulSoup"
   ]
  },
  {
   "cell_type": "code",
   "execution_count": 57,
   "id": "d3af4f2d-c23f-44a1-b360-fda040e445bd",
   "metadata": {},
   "outputs": [],
   "source": [
    "soup = BeautifulSoup(\"<p>Some<b>bad<i>HTML\")"
   ]
  },
  {
   "cell_type": "code",
   "execution_count": 58,
   "id": "84299196-bf14-4ed4-a3fa-ef53e01047f8",
   "metadata": {},
   "outputs": [],
   "source": [
    "url = \"https://www.mehrnews.com/news/6134850/%D9%85%D8%B4%DA%A9%D9%84%D8%A7%D8%AA-%D8%AD%D9%82%D9%88%D9%82%DB%8C-%D9%88-%D9%82%D8%B6%D8%A7%DB%8C%DB%8C-%D8%A7%DB%8C%D8%B1%D8%A7%D9%86%DB%8C%D8%A7%D9%86-%D8%B3%D8%A7%DA%A9%D9%86-%D9%82%D8%B7%D8%B1-%D8%B1%D8%A7-%D8%B1%D9%81%D8%B9-%D8%AE%D9%88%D8%A7%D9%87%DB%8C%D9%85-%DA%A9%D8%B1%D8%AF\""
   ]
  },
  {
   "cell_type": "code",
   "execution_count": 59,
   "id": "740ca368-6fca-4cab-b21a-c2fa5fc7a7c4",
   "metadata": {},
   "outputs": [],
   "source": [
    "soup = BeautifulSoup(requests.get(url).content)"
   ]
  },
  {
   "cell_type": "code",
   "execution_count": 62,
   "id": "c778ca51-0cf0-48e8-ae48-3e1511dfa879",
   "metadata": {},
   "outputs": [],
   "source": [
    "summary = soup.find(\"p\", {\"class\": \"summary introtext\"})"
   ]
  },
  {
   "cell_type": "code",
   "execution_count": 63,
   "id": "dc217f1a-7feb-4dcf-b621-88c8972b0a4a",
   "metadata": {},
   "outputs": [
    {
     "data": {
      "text/plain": [
       "'رییس قوه قضاییه پس از سفر یک روزه به قطر گفت: مسائل و مشکلات حقوقی و قضایی ایرانیان ساکن قطر را پیگیری و رفع خواهیم کرد.'"
      ]
     },
     "execution_count": 63,
     "metadata": {},
     "output_type": "execute_result"
    }
   ],
   "source": [
    "summary.get_text()"
   ]
  },
  {
   "cell_type": "code",
   "execution_count": null,
   "id": "f04494fe-cace-40a5-9510-8347479a0a10",
   "metadata": {},
   "outputs": [],
   "source": []
  }
 ],
 "metadata": {
  "kernelspec": {
   "display_name": "Python 3 (ipykernel)",
   "language": "python",
   "name": "python3"
  },
  "language_info": {
   "codemirror_mode": {
    "name": "ipython",
    "version": 3
   },
   "file_extension": ".py",
   "mimetype": "text/x-python",
   "name": "python",
   "nbconvert_exporter": "python",
   "pygments_lexer": "ipython3",
   "version": "3.12.0"
  }
 },
 "nbformat": 4,
 "nbformat_minor": 5
}
