{
 "cells": [
  {
   "cell_type": "markdown",
   "id": "c5f3819c-e86e-46b6-bae6-2719251f5bab",
   "metadata": {},
   "source": [
    "# check type"
   ]
  },
  {
   "cell_type": "code",
   "execution_count": 1,
   "id": "c8de8c1f-7b3e-4ca2-8fd2-3aa80f4d8c17",
   "metadata": {},
   "outputs": [
    {
     "data": {
      "text/plain": [
       "int"
      ]
     },
     "execution_count": 1,
     "metadata": {},
     "output_type": "execute_result"
    }
   ],
   "source": [
    "type(2)"
   ]
  },
  {
   "cell_type": "code",
   "execution_count": 2,
   "id": "7994fba5-85f6-414a-9f3b-e84b0e0e5419",
   "metadata": {},
   "outputs": [
    {
     "data": {
      "text/plain": [
       "str"
      ]
     },
     "execution_count": 2,
     "metadata": {},
     "output_type": "execute_result"
    }
   ],
   "source": [
    "type('hello')"
   ]
  },
  {
   "cell_type": "code",
   "execution_count": 3,
   "id": "22fb9c1c-577d-4842-8498-51a1a043d8e1",
   "metadata": {},
   "outputs": [
    {
     "data": {
      "text/plain": [
       "bool"
      ]
     },
     "execution_count": 3,
     "metadata": {},
     "output_type": "execute_result"
    }
   ],
   "source": [
    "x = True\n",
    "type(x)"
   ]
  },
  {
   "cell_type": "code",
   "execution_count": 4,
   "id": "cba9ca0a-c0fc-4921-9f6c-44a75592f078",
   "metadata": {},
   "outputs": [],
   "source": [
    "x: bool = True"
   ]
  },
  {
   "cell_type": "code",
   "execution_count": 5,
   "id": "eb492586-ddd0-484a-9fee-1a567e109ef1",
   "metadata": {},
   "outputs": [],
   "source": [
    "y: str = 1"
   ]
  },
  {
   "cell_type": "code",
   "execution_count": 6,
   "id": "22d11561-7756-4821-81f4-e89a930ae621",
   "metadata": {},
   "outputs": [
    {
     "data": {
      "text/plain": [
       "int"
      ]
     },
     "execution_count": 6,
     "metadata": {},
     "output_type": "execute_result"
    }
   ],
   "source": [
    "type(y)"
   ]
  },
  {
   "cell_type": "markdown",
   "id": "78dc27d8-352a-44a0-ab3e-36c947079cd2",
   "metadata": {},
   "source": [
    "# type in func"
   ]
  },
  {
   "cell_type": "code",
   "execution_count": 8,
   "id": "90e1e92f-f3f0-42a9-8293-c0f2e29b464b",
   "metadata": {},
   "outputs": [],
   "source": [
    "def foo(a: int, b: int) -> int:\n",
    "    return a + b"
   ]
  },
  {
   "cell_type": "code",
   "execution_count": null,
   "id": "48387226-5402-45c2-b58d-1a113492f5a8",
   "metadata": {},
   "outputs": [],
   "source": []
  }
 ],
 "metadata": {
  "kernelspec": {
   "display_name": "Python 3 (ipykernel)",
   "language": "python",
   "name": "python3"
  },
  "language_info": {
   "codemirror_mode": {
    "name": "ipython",
    "version": 3
   },
   "file_extension": ".py",
   "mimetype": "text/x-python",
   "name": "python",
   "nbconvert_exporter": "python",
   "pygments_lexer": "ipython3",
   "version": "3.12.0"
  }
 },
 "nbformat": 4,
 "nbformat_minor": 5
}
